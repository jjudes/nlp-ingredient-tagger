{
 "cells": [
  {
   "cell_type": "markdown",
   "metadata": {},
   "source": [
    "## CRF for Ingredient Tagging\n",
    "\n",
    "This notebook goes through a typical training routine to generate and evaluate CRF model from the NYT Cooking (or similarly formatted) dataset."
   ]
  },
  {
   "cell_type": "markdown",
   "metadata": {},
   "source": [
    "### Dataset Generation"
   ]
  },
  {
   "cell_type": "code",
   "execution_count": 29,
   "metadata": {},
   "outputs": [
    {
     "name": "stdout",
     "output_type": "stream",
     "text": [
      "CPU times: user 3.81 s, sys: 1.57 s, total: 5.38 s\n",
      "Wall time: 13.5 s\n"
     ]
    }
   ],
   "source": [
    "%%time\n",
    "from training import generatedata\n",
    "\n",
    "X, y, X_test, y_test = generatedata(\"nyt-cooking.csv\", testprop=0.1, parallel=True)"
   ]
  },
  {
   "cell_type": "markdown",
   "metadata": {},
   "source": [
    "### Training"
   ]
  },
  {
   "cell_type": "markdown",
   "metadata": {},
   "source": [
    "**Note**: Training the CRF model with this dataset and sample parameters will take anywhere from **5 to 15 minutes** depending on your CPU"
   ]
  },
  {
   "cell_type": "code",
   "execution_count": 55,
   "metadata": {},
   "outputs": [
    {
     "name": "stdout",
     "output_type": "stream",
     "text": [
      "Model successfully trained and saved as: model.crfsuite\n",
      "CPU times: user 4min 50s, sys: 613 ms, total: 4min 50s\n",
      "Wall time: 4min 50s\n"
     ]
    },
    {
     "data": {
      "text/plain": [
       "'model.crfsuite'"
      ]
     },
     "execution_count": 55,
     "metadata": {},
     "output_type": "execute_result"
    }
   ],
   "source": [
    "%%time\n",
    "from training import trainCRF\n",
    "\n",
    "filename = 'model.crfsuite'\n",
    "trainCRF(X, y, output=filename)"
   ]
  },
  {
   "cell_type": "markdown",
   "metadata": {},
   "source": [
    "### Training Data Evaluation"
   ]
  },
  {
   "cell_type": "code",
   "execution_count": 31,
   "metadata": {},
   "outputs": [
    {
     "name": "stdout",
     "output_type": "stream",
     "text": [
      "Accuracy:\n",
      "{'INGR': 0.8960391702864321, 'QTY': 0.9391432194575843, 'QTY-UR': 0.925129640780451, 'UNIT': 0.9346875729135202, 'Total': 0.9158781699187732}\n",
      "Precision:\n",
      "{'INGR': 0.9179626735578502, 'QTY': 0.9813072396655212, 'QTY-UR': 0.5434210526315789, 'UNIT': 0.9219856309870887, 'Total': 0.9334283898297093}\n",
      "Recall:\n",
      "{'INGR': 0.8517744533638759, 'QTY': 0.9826695021635432, 'QTY-UR': 0.7357482185273159, 'UNIT': 0.970481052891158, 'Total': 0.9077692874882153}\n",
      "F-Score\n",
      "{'INGR': 0.8836308427774342, 'QTY': 0.9819878984651712, 'QTY-UR': 0.6251261352169525, 'UNIT': 0.9456119820056333, 'Total': 0.9204200448387544}\n"
     ]
    }
   ],
   "source": [
    "from evaluate import evaluate\n",
    "\n",
    "accuracy, precision, recall, fscore = evaluate(X, y, filename)\n",
    "\n",
    "print(\"Accuracy:\")\n",
    "print(accuracy)\n",
    "print(\"Precision:\")\n",
    "print(precision)\n",
    "print(\"Recall:\")\n",
    "print(recall)\n",
    "print(\"F-Score\")\n",
    "print(fscore)"
   ]
  },
  {
   "cell_type": "markdown",
   "metadata": {},
   "source": [
    "### Test Set Evaluation"
   ]
  },
  {
   "cell_type": "code",
   "execution_count": 32,
   "metadata": {},
   "outputs": [
    {
     "name": "stdout",
     "output_type": "stream",
     "text": [
      "Accuracy:\n",
      "{'INGR': 0.8947635870880317, 'QTY': 0.9380653168877512, 'QTY-UR': 0.9233284223697754, 'UNIT': 0.9332900081234768, 'Total': 0.91500930422548}\n",
      "Precision:\n",
      "{'INGR': 0.915966658051176, 'QTY': 0.9805991817341956, 'QTY-UR': 0.5719844357976653, 'UNIT': 0.9197607581171353, 'Total': 0.9318331448250249}\n",
      "Recall:\n",
      "{'INGR': 0.8512535655307011, 'QTY': 0.9835848557055864, 'QTY-UR': 0.7277227722772277, 'UNIT': 0.9703351634843891, 'Total': 0.9076095892663356}\n",
      "F-Score\n",
      "{'INGR': 0.8824252610610517, 'QTY': 0.9820897495208513, 'QTY-UR': 0.6405228758169934, 'UNIT': 0.9443713362842444, 'Total': 0.9195618674774061}\n"
     ]
    }
   ],
   "source": [
    "accuracy, precision, recall, fscore = evaluate(X_test, y_test, filename)\n",
    "\n",
    "print(\"Accuracy:\")\n",
    "print(accuracy)\n",
    "print(\"Precision:\")\n",
    "print(precision)\n",
    "print(\"Recall:\")\n",
    "print(recall)\n",
    "print(\"F-Score\")\n",
    "print(fscore)"
   ]
  },
  {
   "cell_type": "markdown",
   "metadata": {},
   "source": [
    "### Sample Taggings"
   ]
  },
  {
   "cell_type": "code",
   "execution_count": 42,
   "metadata": {},
   "outputs": [],
   "source": [
    "import pandas as pd\n",
    "from parsing import tokenize, removeiob\n",
    "from evaluate import getlabels\n",
    "\n",
    "def displaytags(tokens, tags):\n",
    "    # Make a table with pandas and transpose to make horizontal\n",
    "    df = pd.DataFrame(tokens, removeiob(pred)).transpose()\n",
    "    # Print string representation with adjusted spacing and display options\n",
    "    print(df.to_string(index=False, justify='center', col_space=8, max_cols=15))\n",
    "\n",
    "df = pd.read_csv('nyt-cooking.csv')\n",
    "df = df.loc[pd.notna(df.name)&pd.notna(df.input)]"
   ]
  },
  {
   "cell_type": "markdown",
   "metadata": {},
   "source": [
    "Display 10 random samples from original dataset (incl. train and test) and display the tags:"
   ]
  },
  {
   "cell_type": "code",
   "execution_count": 54,
   "metadata": {},
   "outputs": [
    {
     "name": "stdout",
     "output_type": "stream",
     "text": [
      "  QTY      INGR  \n",
      "    3      eggs  \n",
      "----------------------------------------------------------------------------------------------------\n",
      "  QTY        UNIT        INGR      INGR  \n",
      "    4     tablespoons  vegetable    oil  \n",
      "----------------------------------------------------------------------------------------------------\n",
      "  QTY      UNIT              INGR     INGR     INGR     INGR     INGR     INGR  \n",
      "    4     fillets    of      beef       ,      about     1/4     pound    each  \n",
      "----------------------------------------------------------------------------------------------------\n",
      "           INGR     INGR  \n",
      "  Fresh    mint    leaves \n",
      "----------------------------------------------------------------------------------------------------\n",
      "  QTY      UNIT              INGR     INGR  \n",
      "    1       cup    chopped    red     onion \n",
      "----------------------------------------------------------------------------------------------------\n",
      "  QTY      UNIT               INGR     INGR  \n",
      "    3      cups     cold    shredded  turkey \n",
      "----------------------------------------------------------------------------------------------------\n",
      "  QTY        UNIT       INGR     INGR     INGR     INGR  \n",
      "    3     tablespoons   extra   virgin    olive     oil  \n",
      "----------------------------------------------------------------------------------------------------\n",
      "  QTY      INGR     INGR     INGR     INGR  \n",
      "    1      plum    tomato      ,     halved \n",
      "----------------------------------------------------------------------------------------------------\n",
      "  QTY      UNIT     INGR     INGR     INGR     INGR  \n",
      "  1$1/2    cups     heavy    cream      ,     chilled\n",
      "----------------------------------------------------------------------------------------------------\n",
      "  QTY       UNIT     INGR     INGR  \n",
      "    1     teaspoon  vanilla  extract\n",
      "----------------------------------------------------------------------------------------------------\n"
     ]
    }
   ],
   "source": [
    "from numpy.random import randint\n",
    "samples = df.input.iloc[randint(0, len(df), 10)]\n",
    "    \n",
    "for item in samples:\n",
    "    tokens = tokenize(item, preprocess=True)\n",
    "    pred = getlabels(item, filename)\n",
    "    displaytags(tokens, pred)\n",
    "    print('-'*100)"
   ]
  },
  {
   "cell_type": "markdown",
   "metadata": {},
   "source": [
    "Tag a sample recipe from outside source:"
   ]
  },
  {
   "cell_type": "code",
   "execution_count": 46,
   "metadata": {},
   "outputs": [
    {
     "name": "stdout",
     "output_type": "stream",
     "text": [
      "  QTY      INGR     INGR     INGR     INGR     INGR       INGR      INGR     INGR     INGR  \n",
      "    1      14-oz      .     package   firm      or     extra-firm   tofu       ,     drained\n",
      "----------------------------------------------------------------------------------------------------\n",
      "  QTY      UNIT              INGR       INGR    \n",
      "    1      Tbsp       .      black   peppercorns\n",
      "----------------------------------------------------------------------------------------------------\n",
      "  QTY      INGR     INGR  \n",
      "    2     garlic   cloves \n",
      "----------------------------------------------------------------------------------------------------\n",
      "  QTY                        UNIT     INGR     INGR     INGR  \n",
      "    1      1$1/2      \"      piece   ginger      ,     peeled \n",
      "----------------------------------------------------------------------------------------------------\n",
      "  QTY      UNIT                INGR   \n",
      "    1      Tbsp       .     cornstarch\n",
      "----------------------------------------------------------------------------------------------------\n",
      "  QTY      UNIT              INGR     INGR  \n",
      "   1/2      tsp       .     kosher    salt  \n",
      "----------------------------------------------------------------------------------------------------\n",
      "  QTY      UNIT                            INGR     INGR  \n",
      "    3      Tbsp       .     extra-virgin   olive     oil  \n",
      "----------------------------------------------------------------------------------------------------\n",
      "  QTY      UNIT               INGR      INGR     INGR     INGR     INGR     INGR     INGR     INGR     INGR  \n",
      "    1       lb        .     asparagus     ,     trimmed     ,       cut     into     1$1/2      \"     pieces \n",
      "----------------------------------------------------------------------------------------------------\n",
      "  QTY      UNIT     INGR     INGR  \n",
      "   1/3      cup      soy     sauce \n",
      "----------------------------------------------------------------------------------------------------\n",
      "  QTY      UNIT     INGR     INGR  \n",
      "    1      Tbsp       .      sugar \n",
      "----------------------------------------------------------------------------------------------------\n",
      "  QTY      UNIT                          INGR     INGR  \n",
      "    1       tsp       .     unseasoned   rice    vinegar\n",
      "----------------------------------------------------------------------------------------------------\n",
      "  INGR     INGR     INGR     INGR     INGR     INGR     INGR     INGR     INGR  \n",
      " Cooked    white     or      brown    rice       (       for    serving     )   \n",
      "----------------------------------------------------------------------------------------------------\n"
     ]
    }
   ],
   "source": [
    "recipe = ['1 14-oz. package firm or extra-firm tofu, drained',\n",
    "'1 Tbsp. black peppercorns',\n",
    "'2 garlic cloves',\n",
    "'1 1½\" piece ginger, peeled',\n",
    "'1 Tbsp. cornstarch',\n",
    "'½ tsp. kosher salt',\n",
    "'3 Tbsp. extra-virgin olive oil',\n",
    "'1 lb. asparagus, trimmed, cut into 1½\" pieces',\n",
    "'⅓ cup soy sauce',\n",
    "'1 Tbsp. sugar',\n",
    "'1 tsp. unseasoned rice vinegar',\n",
    "'Cooked white or brown rice (for serving)']\n",
    "\n",
    "for item in recipe:\n",
    "    tokens = tokenize(item, preprocess=True)\n",
    "    pred = getlabels(item, filename)\n",
    "    displaytags(tokens, pred)\n",
    "    print('-'*100)"
   ]
  },
  {
   "cell_type": "markdown",
   "metadata": {},
   "source": [
    "Input samples to test:"
   ]
  },
  {
   "cell_type": "code",
   "execution_count": 72,
   "metadata": {},
   "outputs": [
    {
     "name": "stdout",
     "output_type": "stream",
     "text": [
      "Enter a single recipe line to be tagged or type EXIT to stop\n"
     ]
    },
    {
     "name": "stdin",
     "output_type": "stream",
     "text": [
      " 1 can of Campbell's chicken noodle soup\n"
     ]
    },
    {
     "name": "stdout",
     "output_type": "stream",
     "text": [
      "\n",
      "  QTY      UNIT                          INGR     INGR     INGR  \n",
      "    1       can      of     Campbell's  chicken  noodle    soup  \n",
      "\n",
      "----------------------------------------------------------------------------------------------------\n"
     ]
    },
    {
     "name": "stdin",
     "output_type": "stream",
     "text": [
      " 1 1/2 kilograms of churned butter\n"
     ]
    },
    {
     "name": "stdout",
     "output_type": "stream",
     "text": [
      "\n",
      "  QTY       UNIT               INGR     INGR  \n",
      "  1$1/2   kilograms    of     churned  butter \n",
      "\n",
      "----------------------------------------------------------------------------------------------------\n"
     ]
    },
    {
     "name": "stdin",
     "output_type": "stream",
     "text": [
      " exit\n"
     ]
    }
   ],
   "source": [
    "print('Enter a single recipe line to be tagged or type EXIT to stop')\n",
    "while True:\n",
    "    \n",
    "    s = input('')\n",
    "    if s.lower() == 'exit': break\n",
    "    \n",
    "    tokens = tokenize(s, preprocess=True)\n",
    "    pred = getlabels(s, filename)\n",
    "    print('')\n",
    "    displaytags(tokens, pred)\n",
    "    print('')\n",
    "    print('-'*100)"
   ]
  }
 ],
 "metadata": {
  "kernelspec": {
   "display_name": "Python 3",
   "language": "python",
   "name": "python3"
  },
  "language_info": {
   "codemirror_mode": {
    "name": "ipython",
    "version": 3
   },
   "file_extension": ".py",
   "mimetype": "text/x-python",
   "name": "python",
   "nbconvert_exporter": "python",
   "pygments_lexer": "ipython3",
   "version": "3.7.6"
  }
 },
 "nbformat": 4,
 "nbformat_minor": 4
}
